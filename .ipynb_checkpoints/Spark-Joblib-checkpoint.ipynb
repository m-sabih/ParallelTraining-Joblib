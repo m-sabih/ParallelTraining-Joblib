{
 "cells": [
  {
   "cell_type": "code",
   "execution_count": 1,
   "id": "d93107db",
   "metadata": {},
   "outputs": [],
   "source": [
    "from sklearn.utils import parallel_backend\n",
    "from sklearn.model_selection import cross_val_score\n",
    "from sklearn import datasets\n",
    "from sklearn import svm\n",
    "from joblibspark import register_spark\n",
    "\n",
    "#register_spark() # register spark backend"
   ]
  },
  {
   "cell_type": "code",
   "execution_count": 2,
   "id": "e2006455",
   "metadata": {},
   "outputs": [],
   "source": [
    "import findspark\n",
    "from pyspark.sql import SparkSession"
   ]
  },
  {
   "cell_type": "code",
   "execution_count": 3,
   "id": "4cb95568",
   "metadata": {},
   "outputs": [],
   "source": [
    "def initialize_session(name):\n",
    "    return SparkSession.builder.master(\"local[*]\").appName(name).\\\n",
    "        config(\"spark.driver.bindAddress\", \"localhost\").\\\n",
    "        config(\"spark.ui.port\", \"4050\").getOrCreate()"
   ]
  },
  {
   "cell_type": "code",
   "execution_count": 4,
   "id": "60a17954",
   "metadata": {},
   "outputs": [],
   "source": [
    "findspark.init()\n",
    "spark = initialize_session(\"test\")"
   ]
  },
  {
   "cell_type": "code",
   "execution_count": 5,
   "id": "40940956",
   "metadata": {},
   "outputs": [],
   "source": [
    "register_spark()"
   ]
  },
  {
   "cell_type": "code",
   "execution_count": 6,
   "id": "ebfe07b5",
   "metadata": {},
   "outputs": [],
   "source": [
    "iris = datasets.load_iris()\n",
    "clf = svm.SVC(kernel='linear', C=1)"
   ]
  },
  {
   "cell_type": "code",
   "execution_count": 7,
   "id": "3da6f87e",
   "metadata": {},
   "outputs": [],
   "source": [
    "with parallel_backend('spark', n_jobs=3):\n",
    "    scores = cross_val_score(clf, iris.data, iris.target, cv=5)"
   ]
  },
  {
   "cell_type": "code",
   "execution_count": 8,
   "id": "fee955cb",
   "metadata": {},
   "outputs": [
    {
     "name": "stdout",
     "output_type": "stream",
     "text": [
      "[0.96666667 1.         0.96666667 0.96666667 1.        ]\n"
     ]
    }
   ],
   "source": [
    "print(scores)"
   ]
  },
  {
   "cell_type": "code",
   "execution_count": null,
   "id": "72b545bd",
   "metadata": {},
   "outputs": [],
   "source": []
  }
 ],
 "metadata": {
  "kernelspec": {
   "display_name": "Python 3 (ipykernel)",
   "language": "python",
   "name": "python3"
  },
  "language_info": {
   "codemirror_mode": {
    "name": "ipython",
    "version": 3
   },
   "file_extension": ".py",
   "mimetype": "text/x-python",
   "name": "python",
   "nbconvert_exporter": "python",
   "pygments_lexer": "ipython3",
   "version": "3.7.11"
  }
 },
 "nbformat": 4,
 "nbformat_minor": 5
}
