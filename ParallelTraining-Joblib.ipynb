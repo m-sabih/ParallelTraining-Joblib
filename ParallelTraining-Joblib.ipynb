{
 "cells": [
  {
   "cell_type": "code",
   "execution_count": 1,
   "id": "0dfae87f",
   "metadata": {},
   "outputs": [
    {
     "name": "stderr",
     "output_type": "stream",
     "text": [
      "Importing plotly failed. Interactive plots will not work.\n"
     ]
    }
   ],
   "source": [
    "import pandas as pd\n",
    "from hyperopt import STATUS_OK, Trials, fmin, hp, tpe\n",
    "import numpy as np\n",
    "from fbprophet import Prophet\n",
    "from functools import partial\n",
    "import time\n",
    "from multiprocessing import cpu_count\n",
    "from joblib import Parallel, delayed, parallel_backend\n",
    "from statsmodels.tsa.statespace.sarimax import SARIMAX\n",
    "import warnings\n",
    "warnings.filterwarnings(\"ignore\")"
   ]
  },
  {
   "cell_type": "code",
   "execution_count": 2,
   "id": "cac6bfcd",
   "metadata": {},
   "outputs": [],
   "source": [
    "class HelperFunctions():\n",
    "    def getStores(self, data):\n",
    "        grouped_by_store = data.groupby('store_id')\n",
    "\n",
    "        stores = {}\n",
    "        for key, item in grouped_by_store:\n",
    "            stores[key] = grouped_by_store.get_group(key)\n",
    "\n",
    "        return stores\n",
    "    \n",
    "    def train_test_split(self, df, year=2016):\n",
    "        train, test = df[df['year'] < year], df[df['year'] >= year]\n",
    "        return train, test"
   ]
  },
  {
   "cell_type": "code",
   "execution_count": 3,
   "id": "84fe0795",
   "metadata": {},
   "outputs": [],
   "source": [
    "class Evaluator():        \n",
    "    def __init__(self, labelCol, predictionCol):\n",
    "        self.labelCol = labelCol\n",
    "        self.predictionCol = predictionCol\n",
    "    \n",
    "    def Mape(self, data):        \n",
    "        return np.mean(abs((data[self.labelCol] - data[self.predictionCol]) / data[self.labelCol]))"
   ]
  },
  {
   "cell_type": "code",
   "execution_count": 4,
   "id": "a4895f63",
   "metadata": {},
   "outputs": [],
   "source": [
    "class ProphetModel():\n",
    "    space = {\n",
    "        'changepoint_prior_scale':hp.choice('changepoint_prior_scale',np.arange(.1,2,.1)),        \n",
    "        'n_changepoints' : hp.choice('n_changepoints',np.arange(20,200,20))\n",
    "    }    \n",
    "        \n",
    "    def train(self, train, validation, params):\n",
    "        if params is None:\n",
    "            prophet = Prophet()\n",
    "        else:\n",
    "            prophet = Prophet(**params)\n",
    "\n",
    "        prophetModel = prophet.fit(train, iter=3000)\n",
    "\n",
    "        validation_result = validation[[\"store_id\", \"year\", \"month\", \"y\"]]\n",
    "        validation_result = validation_result.reset_index(drop=True)\n",
    "        validation_result[\"yhat\"] = prophetModel.predict(validation[['ds']])[[\"yhat\"]]\n",
    "        \n",
    "        evaluator = Evaluator(labelCol=\"y\", predictionCol=\"yhat\")\n",
    "        score = evaluator.Mape(validation_result)    \n",
    "        \n",
    "        print('score: {0} model: {1}'.format(score, 'Prophet'))\n",
    "        return {'loss': score, 'status': STATUS_OK}\n",
    "    \n",
    "    def fit(self, data, labelCol):\n",
    "        df = data.copy()\n",
    "        df = df.rename(columns={labelCol: 'y'})    \n",
    "        data = HelperFunctions()\n",
    "        train, validation = data.train_test_split(df, 2015)\n",
    "        train = train[['ds','y']]\n",
    "\n",
    "        trials = Trials()\n",
    "        bestParams = fmin(partial(self.train, train, validation),\n",
    "                    space=ProphetModel.space,\n",
    "                    algo=tpe.suggest,\n",
    "                    max_evals=1,\n",
    "                    trials=trials)\n",
    "        \n",
    "        bestLoss = trials.best_trial['result']['loss']\n",
    "        print(bestParams, bestLoss)\n",
    "        prophetModel = Prophet(**bestParams)\n",
    "        df = df[['ds','y']]\n",
    "        prophetModel = prophetModel.fit(df)\n",
    "\n",
    "        return bestLoss, bestParams, prophetModel\n",
    "    \n",
    "    def validate(self, params):\n",
    "        if params['changepoint_prior_scale'] == 0:\n",
    "            del params['changepoint_prior_scale']"
   ]
  },
  {
   "cell_type": "code",
   "execution_count": 5,
   "id": "700c1138",
   "metadata": {},
   "outputs": [],
   "source": [
    "class SarimaxModel():\n",
    "    \n",
    "    def __init__(self):\n",
    "        self.p_values = np.arange(0, 2)\n",
    "        self.d_values = np.arange(1, 2)\n",
    "        self.q_values = np.arange(1, 4)\n",
    "        self.P_values = np.arange(0, 2)\n",
    "        self.D_values = np.arange(1, 2)\n",
    "        self.Q_values = np.arange(0, 3)\n",
    "        self.m_values = np.arange(7, 8)     \n",
    "        \n",
    "    def train(self, train, validation, arima_order, seasonalOrder):    \n",
    "        try:          \n",
    "            y_hat = validation.copy() \n",
    "            model = SARIMAX(train['sales'], order=arima_order, seasonal_order=seasonalOrder)        \n",
    "            model_fit = model.fit()\n",
    "            predict = model_fit.predict(\"2015-01-01\", \"2015-12-01\", dynamic=True)\n",
    "            y_hat['model_prediction'] = predict      \n",
    "\n",
    "            evaluator = Evaluator(labelCol=\"sales\", predictionCol=\"model_prediction\")\n",
    "            error = evaluator.Mape(y_hat) \n",
    "            \n",
    "            #error = Mape(validation['sales'], y_hat.model_prediction)            \n",
    "                        \n",
    "            print('score: {0} model: {1}'.format(error, 'Sarimax'))\n",
    "            return error, arima_order, seasonalOrder\n",
    "        \n",
    "        except Exception as e:                \n",
    "            print(f\"##### Skipped modelling with: {arima_order}, {seasonalOrder}\\n\")\n",
    "            print(e)\n",
    "            return -1, arima_order, seasonalOrder\n",
    "\n",
    "    \n",
    "    def evaluate(self, train, validation, p_values, d_values, q_values, P_values,\n",
    "                 D_values, Q_values, m_values, parallel=True):    \n",
    "        \n",
    "        executor = Parallel(n_jobs=cpu_count()) \n",
    "        score = []\n",
    "\n",
    "        if parallel==False:\n",
    "            for p in p_values:\n",
    "                for d in d_values:\n",
    "                    for q in q_values:\n",
    "                        for P in P_values:\n",
    "                            for D in D_values:\n",
    "                                for Q in Q_values:\n",
    "                                    for m in m_values:        \n",
    "                                        results = self.train(train, validation, (p,d,q), (P,D,Q,m)) \n",
    "                                        #print(results)\n",
    "                                        score.append(results)                                        \n",
    "\n",
    "        else:\n",
    "            try:\n",
    "                tasks = (delayed(self.train)(train, validation, (p,d,q), (P,D,Q,m)) for m in m_values for Q in Q_values for D in D_values for P in P_values for q in q_values for d in d_values for p in p_values)        \n",
    "                results = executor(tasks)\n",
    "                score.append(results)\n",
    "            except Exception as e:\n",
    "                print('Fatal Error....')\n",
    "                print(e)\n",
    "\n",
    "        return score\n",
    "        \n",
    "    def fit(self, data, labelCol):\n",
    "        df = data.copy()\n",
    "        data = HelperFunctions()\n",
    "        train, validation = data.train_test_split(df, 2015)\n",
    "        train = train[['ds',labelCol]]\n",
    "        validation = validation[['ds',labelCol]]\n",
    "        train.set_index('ds', inplace=True)\n",
    "        validation.set_index('ds', inplace=True)\n",
    "        train.index = pd.DatetimeIndex(train.index.values,\n",
    "                                       freq=train.index.inferred_freq)\n",
    "        validation.index = pd.DatetimeIndex(validation.index.values,\n",
    "                                       freq=validation.index.inferred_freq)\n",
    "\n",
    "        result = self.evaluate(train, validation, self.p_values, self.d_values, self.q_values,\n",
    "                                         self.P_values, self.D_values, self.Q_values, self.m_values, False)\n",
    "        \n",
    "        scores=[]\n",
    "        for tuple_list in result:            \n",
    "            scores.append(tuple_list)\n",
    "\n",
    "        scores.sort(key=lambda x: x[0])\n",
    "        params = scores[0]\n",
    "        \n",
    "        df = df[['ds',labelCol]]\n",
    "        df.set_index('ds', inplace=True)\n",
    "        df.index = pd.DatetimeIndex(df.index.values,\n",
    "                                       freq=df.index.inferred_freq)\n",
    "        \n",
    "        sarimaxModel = SARIMAX(df['sales'], order=params[1], seasonal_order=params[2])        \n",
    "        sarimaxModel = sarimaxModel.fit()\n",
    "        \n",
    "        return params[0], (params[1], params[2]), sarimaxModel"
   ]
  },
  {
   "cell_type": "code",
   "execution_count": 27,
   "id": "9572a57f",
   "metadata": {},
   "outputs": [],
   "source": [
    "class ModelSelector():\n",
    "    def getModel(self, data):\n",
    "        models = {}\n",
    "        for key, value in data.items():\n",
    "                                    \n",
    "            result = Parallel(n_jobs=cpu_count(), prefer=\"threads\")(delayed(self.parallelTraining)(model, value) \n",
    "                                                                     for model in ['prophet', 'sarimax'])                     \n",
    "            \n",
    "            bestLossProphet, bestParamsProphet, modelProphet = result[0]\n",
    "            bestLossSarimax, bestParamsSarimax, modelSarimax = result[1]\n",
    "            \n",
    "            print(bestLossProphet, bestParamsProphet, modelProphet)\n",
    "            print(bestLossSarimax, bestParamsSarimax, modelSarimax)            \n",
    "            \n",
    "            print(\"Best Loss Prophet: {0}\".format(bestLossProphet))\n",
    "            print(\"Best Loss Sarimax: {0}\".format(bestLossSarimax))\n",
    "            \n",
    "            if bestLossProphet < bestLossSarimax:\n",
    "                models[key] = ['Prophet', modelProphet]\n",
    "            else:\n",
    "                models[key] = ['Sarimax', modelSarimax]\n",
    "            \n",
    "        return models    \n",
    "    \n",
    "    def parallelTraining(self, model, data):\n",
    "        if model == \"prophet\":\n",
    "            prophet = ProphetModel()\n",
    "            bestLossProphet, bestParamsProphet, prophetModel = prophet.fit(data, \"sales\")\n",
    "            print(bestLossProphet, bestParamsProphet, prophetModel)\n",
    "            return bestLossProphet, bestParamsProphet, prophetModel\n",
    "        \n",
    "        elif model == \"sarimax\":\n",
    "            sarimax = SarimaxModel()\n",
    "            bestLossSarimax, bestParamsSarimax, sarimaxModel = sarimax.fit(data, \"sales\")\n",
    "            print(bestLossSarimax, bestParamsSarimax, sarimaxModel)            \n",
    "            return bestLossSarimax, bestParamsSarimax, sarimaxModel        "
   ]
  },
  {
   "cell_type": "code",
   "execution_count": 24,
   "id": "601e1dfa",
   "metadata": {},
   "outputs": [],
   "source": [
    "train = pd.read_csv('train.csv', index_col = 0)\n",
    "train['ds'] = pd.to_datetime(train[['year', 'month']].assign(day=1))\n",
    "helper = HelperFunctions()\n",
    "trainStores = helper.getStores(train)        "
   ]
  },
  {
   "cell_type": "code",
   "execution_count": 25,
   "id": "b73d79ab",
   "metadata": {},
   "outputs": [],
   "source": [
    "data = trainStores['CA_1']"
   ]
  },
  {
   "cell_type": "code",
   "execution_count": 29,
   "id": "1ae042a7",
   "metadata": {},
   "outputs": [
    {
     "data": {
      "text/plain": [
       "<statsmodels.tsa.statespace.sarimax.SARIMAXResultsWrapper at 0x203dec0a548>"
      ]
     },
     "execution_count": 29,
     "metadata": {},
     "output_type": "execute_result"
    }
   ],
   "source": [
    "sarimaxModel"
   ]
  },
  {
   "cell_type": "code",
   "execution_count": 20,
   "id": "82a08e4c",
   "metadata": {},
   "outputs": [],
   "source": [
    "class Driver():\n",
    "    def main(self):\n",
    "        train = pd.read_csv('train.csv', index_col = 0)\n",
    "        test = pd.read_csv('test.csv', index_col = 0)\n",
    "        \n",
    "        train['ds'] = pd.to_datetime(train[['year', 'month']].assign(day=1))\n",
    "        test['ds'] = pd.to_datetime(test[['year', 'month']].assign(day=1))\n",
    "        \n",
    "        helper = HelperFunctions()\n",
    "        trainStores = helper.getStores(train)\n",
    "        testStores = helper.getStores(test)        \n",
    "        \n",
    "        print(\"number of stores: {0}\".format(len(trainStores)))                \n",
    "        \n",
    "        modelSelector = ModelSelector()\n",
    "        return modelSelector.getModel(trainStores)    "
   ]
  },
  {
   "cell_type": "code",
   "execution_count": 28,
   "id": "d5d9a93e",
   "metadata": {
    "scrolled": true
   },
   "outputs": [
    {
     "name": "stdout",
     "output_type": "stream",
     "text": [
      "number of stores: 10\n",
      "\r",
      "  0%|                                                                            | 0/1 [00:00<?, ?trial/s, best loss=?]"
     ]
    },
    {
     "name": "stderr",
     "output_type": "stream",
     "text": [
      "INFO:hyperopt.tpe:build_posterior_wrapper took 0.057845 seconds\n",
      "INFO:hyperopt.tpe:TPE using 0 trials\n",
      "INFO:fbprophet:Disabling weekly seasonality. Run prophet with weekly_seasonality=True to override this.\n",
      "INFO:fbprophet:Disabling daily seasonality. Run prophet with daily_seasonality=True to override this.\n",
      "INFO:fbprophet:n_changepoints greater than number of observations. Using 37.\n"
     ]
    },
    {
     "name": "stdout",
     "output_type": "stream",
     "text": [
      "score: 0.021063141003058453 model: Sarimax                                                                             \n",
      "score: 0.02454867902793963 model: Prophet                                                                              \n",
      "100%|█████████████████████████████████████████████████| 1/1 [00:02<00:00,  2.95s/trial, best loss: 0.02454867902793963]"
     ]
    },
    {
     "name": "stderr",
     "output_type": "stream",
     "text": [
      "INFO:fbprophet:Disabling weekly seasonality. Run prophet with weekly_seasonality=True to override this.\n",
      "INFO:fbprophet:Disabling daily seasonality. Run prophet with daily_seasonality=True to override this.\n"
     ]
    },
    {
     "name": "stdout",
     "output_type": "stream",
     "text": [
      "\n",
      "{'changepoint_prior_scale': 2, 'n_changepoints': 8} 0.02454867902793963\n",
      "score: 0.017846001294108318 model: Sarimax\n",
      "0.02454867902793963 {'changepoint_prior_scale': 2, 'n_changepoints': 8} <fbprophet.forecaster.Prophet object at 0x0000026F8CBAD588>\n",
      "score: 0.01693326699881369 model: Sarimax\n",
      "score: 0.017106446850248588 model: Sarimax\n",
      "score: 0.017152597669482805 model: Sarimax\n",
      "score: 0.01736799063541656 model: Sarimax\n",
      "score: 0.022126131915158175 model: Sarimax\n",
      "score: 0.018010692656682783 model: Sarimax\n",
      "score: 0.017097676392160158 model: Sarimax\n",
      "score: 0.017257514558625446 model: Sarimax\n",
      "score: 0.020237665848885162 model: Sarimax\n",
      "score: 0.017248455572712606 model: Sarimax\n",
      "score: 0.023052568318454956 model: Sarimax\n",
      "score: 0.018244945712127047 model: Sarimax\n",
      "score: 0.016976716649639057 model: Sarimax\n",
      "score: 0.017025263780505073 model: Sarimax\n",
      "score: 0.020192452647799574 model: Sarimax\n",
      "score: 0.017094092569126657 model: Sarimax\n",
      "score: 0.02248717665328924 model: Sarimax\n",
      "score: 0.018038730969357278 model: Sarimax\n",
      "score: 0.017103015985262527 model: Sarimax\n",
      "score: 0.01725364261236738 model: Sarimax\n",
      "score: 0.019743709979790504 model: Sarimax\n",
      "score: 0.017676578250053997 model: Sarimax\n",
      "score: 0.021096520140465813 model: Sarimax\n",
      "score: 0.01757509196716266 model: Sarimax\n",
      "score: 0.017090039327343712 model: Sarimax\n",
      "score: 0.017064735992874284 model: Sarimax\n",
      "score: 0.017103119869513298 model: Sarimax\n",
      "score: 0.017491683810628964 model: Sarimax\n",
      "score: 0.021672197275908373 model: Sarimax\n",
      "score: 0.02051028894338878 model: Sarimax\n",
      "score: 0.019389223608514923 model: Sarimax\n",
      "score: 0.01976897819967958 model: Sarimax\n",
      "score: 0.02184371620148259 model: Sarimax\n",
      "score: 0.01950447771191856 model: Sarimax\n",
      "0.01693326699881369 ((0, 1, 1), (0, 1, 2, 7)) <statsmodels.tsa.statespace.sarimax.SARIMAXResultsWrapper object at 0x0000026F8CBB8608>\n",
      "0.02454867902793963 {'changepoint_prior_scale': 2, 'n_changepoints': 8} <fbprophet.forecaster.Prophet object at 0x0000026F8CBAD588>\n",
      "0.01693326699881369 ((0, 1, 1), (0, 1, 2, 7)) <statsmodels.tsa.statespace.sarimax.SARIMAXResultsWrapper object at 0x0000026F8CBB8608>\n",
      "Best Loss Prophet: 0.02454867902793963\n",
      "Best Loss Sarimax: 0.01693326699881369\n",
      "  0%|                                                                            | 0/1 [00:00<?, ?trial/s, best loss=?]"
     ]
    },
    {
     "name": "stderr",
     "output_type": "stream",
     "text": [
      "INFO:hyperopt.tpe:build_posterior_wrapper took 0.000000 seconds\n",
      "INFO:hyperopt.tpe:TPE using 0 trials\n",
      "INFO:fbprophet:Disabling weekly seasonality. Run prophet with weekly_seasonality=True to override this.\n",
      "INFO:fbprophet:Disabling daily seasonality. Run prophet with daily_seasonality=True to override this.\n"
     ]
    },
    {
     "name": "stdout",
     "output_type": "stream",
     "text": [
      "score: 0.03518457603307092 model: Sarimax                                                                              \n",
      "score: 0.20014733053672162 model: Prophet                                                                              \n",
      "100%|█████████████████████████████████████████████████| 1/1 [00:02<00:00,  2.01s/trial, best loss: 0.20014733053672162]"
     ]
    },
    {
     "name": "stderr",
     "output_type": "stream",
     "text": [
      "INFO:fbprophet:Disabling weekly seasonality. Run prophet with weekly_seasonality=True to override this.\n"
     ]
    },
    {
     "name": "stdout",
     "output_type": "stream",
     "text": [
      "\n",
      "{'changepoint_prior_scale': 16, 'n_changepoints': 0} 0.20014733053672162\n"
     ]
    },
    {
     "name": "stderr",
     "output_type": "stream",
     "text": [
      "INFO:fbprophet:Disabling daily seasonality. Run prophet with daily_seasonality=True to override this.\n"
     ]
    },
    {
     "name": "stdout",
     "output_type": "stream",
     "text": [
      "0.20014733053672162 {'changepoint_prior_scale': 16, 'n_changepoints': 0} <fbprophet.forecaster.Prophet object at 0x0000026FF6739988>\n",
      "score: 0.035072567231430006 model: Sarimax\n",
      "score: 0.03665015701512721 model: Sarimax\n",
      "score: 0.035089847816089335 model: Sarimax\n",
      "score: 0.04014161119831025 model: Sarimax\n",
      "score: 0.04418592276085412 model: Sarimax\n",
      "score: 0.03550092510969939 model: Sarimax\n",
      "score: 0.035568539859573194 model: Sarimax\n",
      "score: 0.036868856939641426 model: Sarimax\n",
      "score: 0.03570099204895122 model: Sarimax\n",
      "score: 0.04129153081965375 model: Sarimax\n",
      "score: 0.04908882883921423 model: Sarimax\n",
      "score: 0.03276969106635298 model: Sarimax\n",
      "score: 0.03489607260978599 model: Sarimax\n",
      "score: 0.03620965311498783 model: Sarimax\n",
      "score: 0.034909609058872006 model: Sarimax\n",
      "score: 0.03908350719806172 model: Sarimax\n",
      "score: 0.04313063450262606 model: Sarimax\n",
      "score: 0.03895092733874417 model: Sarimax\n",
      "score: 0.03642408409202506 model: Sarimax\n",
      "score: 0.03718979253502021 model: Sarimax\n",
      "score: 0.0366228438990097 model: Sarimax\n",
      "score: 0.043926388278108956 model: Sarimax\n",
      "score: 0.05206582765628313 model: Sarimax\n",
      "score: 0.03712479419973836 model: Sarimax\n",
      "score: 0.0370695329255551 model: Sarimax\n",
      "score: 0.0386144069736421 model: Sarimax\n",
      "score: 0.037094389586681674 model: Sarimax\n",
      "score: 0.040158584398868595 model: Sarimax\n",
      "score: 0.04667461198297235 model: Sarimax\n",
      "score: 0.035875236256162145 model: Sarimax\n",
      "score: 0.03575292867905571 model: Sarimax\n",
      "score: 0.03775522300570722 model: Sarimax\n",
      "score: 0.035793435757933374 model: Sarimax\n",
      "score: 0.04011287619620605 model: Sarimax\n",
      "score: 0.043200629205648426 model: Sarimax\n",
      "0.03276969106635298 ((0, 1, 3), (0, 1, 0, 7)) <statsmodels.tsa.statespace.sarimax.SARIMAXResultsWrapper object at 0x0000026F8DC3C288>\n",
      "0.20014733053672162 {'changepoint_prior_scale': 16, 'n_changepoints': 0} <fbprophet.forecaster.Prophet object at 0x0000026FF6739988>\n",
      "0.03276969106635298 ((0, 1, 3), (0, 1, 0, 7)) <statsmodels.tsa.statespace.sarimax.SARIMAXResultsWrapper object at 0x0000026F8DC3C288>\n",
      "Best Loss Prophet: 0.20014733053672162\n",
      "Best Loss Sarimax: 0.03276969106635298\n",
      "  0%|                                                                            | 0/1 [00:00<?, ?trial/s, best loss=?]"
     ]
    },
    {
     "name": "stderr",
     "output_type": "stream",
     "text": [
      "INFO:hyperopt.tpe:build_posterior_wrapper took 0.000000 seconds\n",
      "INFO:hyperopt.tpe:TPE using 0 trials\n",
      "INFO:fbprophet:Disabling weekly seasonality. Run prophet with weekly_seasonality=True to override this.\n",
      "INFO:fbprophet:Disabling daily seasonality. Run prophet with daily_seasonality=True to override this.\n",
      "INFO:fbprophet:n_changepoints greater than number of observations. Using 37.\n"
     ]
    },
    {
     "name": "stdout",
     "output_type": "stream",
     "text": [
      "score: 0.015811897456003487 model: Sarimax                                                                             \n",
      "score: 0.10371292047412155 model: Prophet                                                                              \n",
      "100%|█████████████████████████████████████████████████| 1/1 [00:02<00:00,  2.94s/trial, best loss: 0.10371292047412155]"
     ]
    },
    {
     "name": "stderr",
     "output_type": "stream",
     "text": [
      "INFO:fbprophet:Disabling weekly seasonality. Run prophet with weekly_seasonality=True to override this.\n",
      "INFO:fbprophet:Disabling daily seasonality. Run prophet with daily_seasonality=True to override this.\n"
     ]
    },
    {
     "name": "stdout",
     "output_type": "stream",
     "text": [
      "\n",
      "{'changepoint_prior_scale': 7, 'n_changepoints': 8} 0.10371292047412155\n",
      "0.10371292047412155 {'changepoint_prior_scale': 7, 'n_changepoints': 8} <fbprophet.forecaster.Prophet object at 0x0000026FF677B088>\n",
      "score: 0.015098346210285503 model: Sarimax\n",
      "score: 0.015460622874716176 model: Sarimax\n",
      "score: 0.01537575013255855 model: Sarimax\n",
      "score: 0.015315885578899036 model: Sarimax\n",
      "score: 0.018802246714453907 model: Sarimax\n",
      "score: 0.016539843816684104 model: Sarimax\n",
      "score: 0.015545238268170836 model: Sarimax\n",
      "score: 0.015865654737745774 model: Sarimax\n",
      "score: 0.015769896491005634 model: Sarimax\n",
      "score: 0.015730383231516185 model: Sarimax\n",
      "score: 0.020085255449820354 model: Sarimax\n",
      "score: 0.015036035443636762 model: Sarimax\n",
      "score: 0.01445854736479432 model: Sarimax\n",
      "score: 0.014689167873289761 model: Sarimax\n",
      "score: 0.014767301385047546 model: Sarimax\n",
      "score: 0.014615300973602077 model: Sarimax\n",
      "score: 0.018428872209013843 model: Sarimax\n",
      "score: 0.014253067587842302 model: Sarimax\n",
      "score: 0.013534675353285274 model: Sarimax\n",
      "score: 0.013426905700033505 model: Sarimax\n",
      "score: 0.013570875136439382 model: Sarimax\n",
      "score: 0.013506507062367295 model: Sarimax\n",
      "score: 0.013522086220287034 model: Sarimax\n",
      "score: 0.018029104007368107 model: Sarimax\n",
      "score: 0.016371833417124105 model: Sarimax\n",
      "score: 0.01733217131786123 model: Sarimax\n",
      "score: 0.017019156132534793 model: Sarimax\n",
      "score: 0.01682600939132556 model: Sarimax\n",
      "score: 0.01937547030100512 model: Sarimax\n",
      "score: 0.015524977156523899 model: Sarimax\n",
      "score: 0.014718270781907574 model: Sarimax\n",
      "score: 0.016332493534740793 model: Sarimax\n",
      "score: 0.016072407485038607 model: Sarimax\n",
      "score: 0.015109020938461294 model: Sarimax\n",
      "score: 0.01963703242020359 model: Sarimax\n",
      "0.013426905700033505 ((1, 1, 1), (0, 1, 2, 7)) <statsmodels.tsa.statespace.sarimax.SARIMAXResultsWrapper object at 0x0000026F8E0D4248>\n",
      "0.10371292047412155 {'changepoint_prior_scale': 7, 'n_changepoints': 8} <fbprophet.forecaster.Prophet object at 0x0000026FF677B088>\n",
      "0.013426905700033505 ((1, 1, 1), (0, 1, 2, 7)) <statsmodels.tsa.statespace.sarimax.SARIMAXResultsWrapper object at 0x0000026F8E0D4248>\n",
      "Best Loss Prophet: 0.10371292047412155\n",
      "Best Loss Sarimax: 0.013426905700033505\n",
      "  0%|                                                                            | 0/1 [00:00<?, ?trial/s, best loss=?]"
     ]
    },
    {
     "name": "stderr",
     "output_type": "stream",
     "text": [
      "INFO:hyperopt.tpe:build_posterior_wrapper took 0.000000 seconds\n",
      "INFO:hyperopt.tpe:TPE using 0 trials\n",
      "INFO:fbprophet:Disabling weekly seasonality. Run prophet with weekly_seasonality=True to override this.\n",
      "INFO:fbprophet:Disabling daily seasonality. Run prophet with daily_seasonality=True to override this.\n",
      "INFO:fbprophet:n_changepoints greater than number of observations. Using 37.\n"
     ]
    },
    {
     "name": "stdout",
     "output_type": "stream",
     "text": [
      "score: 0.011476949635423277 model: Sarimax                                                                             \n",
      "score: 0.014327531676988019 model: Prophet                                                                             \n",
      "100%|████████████████████████████████████████████████| 1/1 [00:03<00:00,  3.05s/trial, best loss: 0.014327531676988019]"
     ]
    },
    {
     "name": "stderr",
     "output_type": "stream",
     "text": [
      "INFO:fbprophet:Disabling weekly seasonality. Run prophet with weekly_seasonality=True to override this.\n",
      "INFO:fbprophet:Disabling daily seasonality. Run prophet with daily_seasonality=True to override this.\n"
     ]
    },
    {
     "name": "stdout",
     "output_type": "stream",
     "text": [
      "\n",
      "{'changepoint_prior_scale': 10, 'n_changepoints': 5} 0.014327531676988019\n",
      "0.014327531676988019 {'changepoint_prior_scale': 10, 'n_changepoints': 5} <fbprophet.forecaster.Prophet object at 0x0000026F8B2D7188>\n",
      "score: 0.013650672092507428 model: Sarimax\n",
      "score: 0.012607184325922442 model: Sarimax\n",
      "score: 0.013941531279761055 model: Sarimax\n",
      "score: 0.013006929049824416 model: Sarimax\n",
      "score: 0.014517728593998592 model: Sarimax\n",
      "score: 0.011525746501916017 model: Sarimax\n",
      "score: 0.014612143180681615 model: Sarimax\n",
      "score: 0.012387713938542667 model: Sarimax\n",
      "score: 0.01372681987172972 model: Sarimax\n",
      "score: 0.013469440459272704 model: Sarimax\n",
      "score: 0.01971221294941428 model: Sarimax\n",
      "score: 0.011388172371439015 model: Sarimax\n",
      "score: 0.013664017393223435 model: Sarimax\n",
      "score: 0.01198725130355825 model: Sarimax\n",
      "score: 0.012863945997232652 model: Sarimax\n",
      "score: 0.012574920094565624 model: Sarimax\n",
      "score: 0.012135469506638116 model: Sarimax\n",
      "score: 0.011581888254863955 model: Sarimax\n",
      "score: 0.013698836328292037 model: Sarimax\n",
      "score: 0.012082516131643887 model: Sarimax\n",
      "score: 0.01286997615646939 model: Sarimax\n",
      "score: 0.012618707209144315 model: Sarimax\n",
      "score: 0.013888445245395889 model: Sarimax\n",
      "score: 0.011556488676577143 model: Sarimax\n",
      "score: 0.013292205957830603 model: Sarimax\n",
      "score: 0.011447065399624699 model: Sarimax\n",
      "score: 0.012158930631976756 model: Sarimax\n",
      "score: 0.01194243259802785 model: Sarimax\n",
      "score: 0.0129482557744897 model: Sarimax\n",
      "score: 0.011592772978632725 model: Sarimax\n",
      "score: 0.014040873940816797 model: Sarimax\n",
      "score: 0.011932769709033321 model: Sarimax\n",
      "score: 0.012315798744319505 model: Sarimax\n",
      "score: 0.012472626668912122 model: Sarimax\n",
      "score: 0.01177334522011173 model: Sarimax\n",
      "0.011388172371439015 ((0, 1, 3), (0, 1, 0, 7)) <statsmodels.tsa.statespace.sarimax.SARIMAXResultsWrapper object at 0x0000026F8C956488>\n",
      "0.014327531676988019 {'changepoint_prior_scale': 10, 'n_changepoints': 5} <fbprophet.forecaster.Prophet object at 0x0000026F8B2D7188>\n",
      "0.011388172371439015 ((0, 1, 3), (0, 1, 0, 7)) <statsmodels.tsa.statespace.sarimax.SARIMAXResultsWrapper object at 0x0000026F8C956488>\n",
      "Best Loss Prophet: 0.014327531676988019\n",
      "Best Loss Sarimax: 0.011388172371439015\n",
      "  0%|                                                                            | 0/1 [00:00<?, ?trial/s, best loss=?]"
     ]
    },
    {
     "name": "stderr",
     "output_type": "stream",
     "text": [
      "INFO:hyperopt.tpe:build_posterior_wrapper took 0.001994 seconds\n",
      "INFO:hyperopt.tpe:TPE using 0 trials\n",
      "INFO:fbprophet:Disabling weekly seasonality. Run prophet with weekly_seasonality=True to override this.\n",
      "INFO:fbprophet:Disabling daily seasonality. Run prophet with daily_seasonality=True to override this.\n",
      "INFO:fbprophet:n_changepoints greater than number of observations. Using 37.\n"
     ]
    },
    {
     "name": "stdout",
     "output_type": "stream",
     "text": [
      "score: 0.024764725755268016 model: Sarimax                                                                             \n",
      "score: 0.022576776213008024 model: Prophet                                                                             \n",
      "100%|████████████████████████████████████████████████| 1/1 [00:02<00:00,  2.92s/trial, best loss: 0.022576776213008024]"
     ]
    },
    {
     "name": "stderr",
     "output_type": "stream",
     "text": [
      "INFO:fbprophet:Disabling weekly seasonality. Run prophet with weekly_seasonality=True to override this.\n",
      "INFO:fbprophet:Disabling daily seasonality. Run prophet with daily_seasonality=True to override this.\n"
     ]
    },
    {
     "name": "stdout",
     "output_type": "stream",
     "text": [
      "\n",
      "{'changepoint_prior_scale': 16, 'n_changepoints': 1} 0.022576776213008024\n",
      "score: 0.02475765711321586 model: Sarimax\n",
      "0.022576776213008024 {'changepoint_prior_scale': 16, 'n_changepoints': 1} <fbprophet.forecaster.Prophet object at 0x0000026F8C9711C8>\n",
      "score: 0.023269517337763636 model: Sarimax\n",
      "score: 0.024761353624024943 model: Sarimax\n",
      "score: 0.027243288005603303 model: Sarimax\n",
      "score: 0.023906584658470523 model: Sarimax\n",
      "score: 0.024274967976142186 model: Sarimax\n",
      "score: 0.024296575250845633 model: Sarimax\n",
      "score: 0.022571457070412262 model: Sarimax\n",
      "score: 0.02433355559569143 model: Sarimax\n",
      "score: 0.026835045890285177 model: Sarimax\n",
      "score: 0.02348894947131609 model: Sarimax\n",
      "score: 0.020374987388281928 model: Sarimax\n",
      "score: 0.020276939533664023 model: Sarimax\n",
      "score: 0.019911467279068226 model: Sarimax\n",
      "score: 0.020869223840130843 model: Sarimax\n",
      "score: 0.02437021074872754 model: Sarimax\n",
      "score: 0.02088299973869591 model: Sarimax\n",
      "score: 0.01599123382863674 model: Sarimax\n",
      "score: 0.01601778066561434 model: Sarimax\n",
      "score: 0.018252838932244532 model: Sarimax\n",
      "score: 0.01598386171283115 model: Sarimax\n",
      "score: 0.017157291329282294 model: Sarimax\n",
      "score: 0.018489931015474765 model: Sarimax\n",
      "score: 0.025735780975622888 model: Sarimax\n",
      "score: 0.02565623122427746 model: Sarimax\n",
      "score: 0.023428489403863124 model: Sarimax\n",
      "score: 0.025740894499791434 model: Sarimax\n",
      "score: 0.02776136182815776 model: Sarimax\n",
      "score: 0.024356522440541043 model: Sarimax\n",
      "score: 0.024146351190012214 model: Sarimax\n",
      "score: 0.02352103460349517 model: Sarimax\n",
      "score: 0.021818424992888205 model: Sarimax\n",
      "score: 0.023807372119273668 model: Sarimax\n",
      "score: 0.026142908730738355 model: Sarimax\n",
      "score: 0.02260664862155129 model: Sarimax\n",
      "0.01598386171283115 ((1, 1, 1), (1, 1, 0, 7)) <statsmodels.tsa.statespace.sarimax.SARIMAXResultsWrapper object at 0x0000026F8DCA6F88>\n",
      "0.022576776213008024 {'changepoint_prior_scale': 16, 'n_changepoints': 1} <fbprophet.forecaster.Prophet object at 0x0000026F8C9711C8>\n",
      "0.01598386171283115 ((1, 1, 1), (1, 1, 0, 7)) <statsmodels.tsa.statespace.sarimax.SARIMAXResultsWrapper object at 0x0000026F8DCA6F88>\n",
      "Best Loss Prophet: 0.022576776213008024\n",
      "Best Loss Sarimax: 0.01598386171283115\n",
      "  0%|                                                                            | 0/1 [00:00<?, ?trial/s, best loss=?]"
     ]
    },
    {
     "name": "stderr",
     "output_type": "stream",
     "text": [
      "INFO:hyperopt.tpe:build_posterior_wrapper took 0.013123 seconds\n",
      "INFO:hyperopt.tpe:TPE using 0 trials\n",
      "INFO:fbprophet:Disabling weekly seasonality. Run prophet with weekly_seasonality=True to override this.\n",
      "INFO:fbprophet:Disabling daily seasonality. Run prophet with daily_seasonality=True to override this.\n",
      "INFO:fbprophet:n_changepoints greater than number of observations. Using 37.\n"
     ]
    },
    {
     "name": "stdout",
     "output_type": "stream",
     "text": [
      "score: 0.018211603916894928 model: Sarimax                                                                             \n",
      "score: 0.02585405599427851 model: Prophet                                                                              \n",
      "100%|█████████████████████████████████████████████████| 1/1 [00:02<00:00,  2.84s/trial, best loss: 0.02585405599427851]"
     ]
    },
    {
     "name": "stderr",
     "output_type": "stream",
     "text": [
      "INFO:fbprophet:Disabling weekly seasonality. Run prophet with weekly_seasonality=True to override this.\n",
      "INFO:fbprophet:Disabling daily seasonality. Run prophet with daily_seasonality=True to override this.\n"
     ]
    },
    {
     "name": "stdout",
     "output_type": "stream",
     "text": [
      "\n",
      "{'changepoint_prior_scale': 9, 'n_changepoints': 8} 0.02585405599427851\n",
      "0.02585405599427851 {'changepoint_prior_scale': 9, 'n_changepoints': 8} <fbprophet.forecaster.Prophet object at 0x0000026F8AFCA548>\n",
      "score: 0.024910674069466926 model: Sarimax\n",
      "score: 0.02491314976088985 model: Sarimax\n",
      "score: 0.021778498186205707 model: Sarimax\n",
      "score: 0.024824493890953384 model: Sarimax\n",
      "score: 0.024836943806451527 model: Sarimax\n",
      "score: 0.03120268086220078 model: Sarimax\n",
      "score: 0.03119339154553202 model: Sarimax\n",
      "score: 0.03409378166339214 model: Sarimax\n",
      "score: 0.023924586963698036 model: Sarimax\n",
      "score: 0.032595130089727246 model: Sarimax\n",
      "score: 0.033612654867222175 model: Sarimax\n",
      "score: 0.034209239940993945 model: Sarimax\n",
      "score: 0.023986226729085625 model: Sarimax\n",
      "score: 0.024097319065170708 model: Sarimax\n",
      "score: 0.019147717921294705 model: Sarimax\n",
      "score: 0.023996686565120343 model: Sarimax\n",
      "score: 0.023907560341473805 model: Sarimax\n",
      "score: 0.020254961079720267 model: Sarimax\n",
      "score: 0.032710698053140565 model: Sarimax\n",
      "score: 0.03414586429234528 model: Sarimax\n",
      "score: 0.02350960235298526 model: Sarimax\n",
      "score: 0.033353336832426035 model: Sarimax\n",
      "score: 0.034191741552705594 model: Sarimax\n",
      "score: 0.04656011824189315 model: Sarimax\n",
      "score: 0.045083451718902184 model: Sarimax\n",
      "score: 0.009565684127530099 model: Sarimax\n",
      "score: 0.04451050259501523 model: Sarimax\n",
      "score: 0.04483793404762305 model: Sarimax\n",
      "score: 0.04854155662083187 model: Sarimax\n",
      "score: 0.04479164914679843 model: Sarimax\n",
      "score: 0.044562460936842845 model: Sarimax\n",
      "score: 0.04699623393485793 model: Sarimax\n",
      "score: 0.044556839184321066 model: Sarimax\n",
      "score: 0.04557311565033904 model: Sarimax\n",
      "score: 0.048955904367740936 model: Sarimax\n",
      "0.009565684127530099 ((1, 1, 2), (0, 1, 2, 7)) <statsmodels.tsa.statespace.sarimax.SARIMAXResultsWrapper object at 0x0000026F8E13D348>\n",
      "0.02585405599427851 {'changepoint_prior_scale': 9, 'n_changepoints': 8} <fbprophet.forecaster.Prophet object at 0x0000026F8AFCA548>\n",
      "0.009565684127530099 ((1, 1, 2), (0, 1, 2, 7)) <statsmodels.tsa.statespace.sarimax.SARIMAXResultsWrapper object at 0x0000026F8E13D348>\n",
      "Best Loss Prophet: 0.02585405599427851\n",
      "Best Loss Sarimax: 0.009565684127530099\n",
      "  0%|                                                                            | 0/1 [00:00<?, ?trial/s, best loss=?]"
     ]
    },
    {
     "name": "stderr",
     "output_type": "stream",
     "text": [
      "INFO:hyperopt.tpe:build_posterior_wrapper took 0.006006 seconds\n",
      "INFO:hyperopt.tpe:TPE using 0 trials\n",
      "INFO:fbprophet:Disabling weekly seasonality. Run prophet with weekly_seasonality=True to override this.\n",
      "INFO:fbprophet:Disabling daily seasonality. Run prophet with daily_seasonality=True to override this.\n",
      "INFO:fbprophet:n_changepoints greater than number of observations. Using 37.\n"
     ]
    },
    {
     "name": "stdout",
     "output_type": "stream",
     "text": [
      "score: 0.026205575718975346 model: Sarimax                                                                             \n",
      "score: 0.0180985258425708 model: Sarimax                                                                               \n",
      "score: 0.046230350686988685 model: Prophet                                                                             \n",
      "100%|████████████████████████████████████████████████| 1/1 [00:03<00:00,  3.18s/trial, best loss: 0.046230350686988685]"
     ]
    },
    {
     "name": "stderr",
     "output_type": "stream",
     "text": [
      "INFO:fbprophet:Disabling weekly seasonality. Run prophet with weekly_seasonality=True to override this.\n",
      "INFO:fbprophet:Disabling daily seasonality. Run prophet with daily_seasonality=True to override this.\n"
     ]
    },
    {
     "name": "stdout",
     "output_type": "stream",
     "text": [
      "\n",
      "{'changepoint_prior_scale': 10, 'n_changepoints': 5} 0.046230350686988685\n",
      "0.046230350686988685 {'changepoint_prior_scale': 10, 'n_changepoints': 5} <fbprophet.forecaster.Prophet object at 0x0000026F8B2D7208>\n",
      "score: 0.022512679256104118 model: Sarimax\n",
      "score: 0.02059054117644377 model: Sarimax\n",
      "score: 0.018564943464814576 model: Sarimax\n",
      "score: 0.023969791115772358 model: Sarimax\n",
      "score: 0.02374558889911825 model: Sarimax\n",
      "score: 0.018175279302013646 model: Sarimax\n",
      "score: 0.02190167175740264 model: Sarimax\n",
      "score: 0.019870975121519415 model: Sarimax\n",
      "score: 0.02357847694207314 model: Sarimax\n",
      "score: 0.02334080705470851 model: Sarimax\n",
      "score: 0.013577011645515303 model: Sarimax\n",
      "score: 0.010777312848334495 model: Sarimax\n",
      "score: 0.01662411446464725 model: Sarimax\n",
      "score: 0.012279345084384745 model: Sarimax\n",
      "score: 0.018841334971907545 model: Sarimax\n",
      "score: 0.01620805141867244 model: Sarimax\n",
      "score: 0.009234197936130005 model: Sarimax\n",
      "score: 0.008561333147469033 model: Sarimax\n",
      "score: 0.045455783788931704 model: Sarimax\n",
      "score: 0.00895100388662438 model: Sarimax\n",
      "score: 0.036576145422120086 model: Sarimax\n",
      "score: 0.03622594114725378 model: Sarimax\n",
      "score: 0.02178767106886753 model: Sarimax\n",
      "score: 0.01802051490615574 model: Sarimax\n",
      "score: 0.021854610183599462 model: Sarimax\n",
      "score: 0.01945626354060383 model: Sarimax\n",
      "score: 0.02518544012110895 model: Sarimax\n",
      "score: 0.02318079800725227 model: Sarimax\n",
      "score: 0.02254701742279713 model: Sarimax\n",
      "score: 0.014398182207098995 model: Sarimax\n",
      "score: 0.0253006702131142 model: Sarimax\n",
      "score: 0.01694193583053667 model: Sarimax\n",
      "score: 0.027659149631590055 model: Sarimax\n",
      "score: 0.026043042710941326 model: Sarimax\n",
      "0.008561333147469033 ((1, 1, 1), (0, 1, 1, 7)) <statsmodels.tsa.statespace.sarimax.SARIMAXResultsWrapper object at 0x0000026F8DCEBE48>\n",
      "0.046230350686988685 {'changepoint_prior_scale': 10, 'n_changepoints': 5} <fbprophet.forecaster.Prophet object at 0x0000026F8B2D7208>\n",
      "0.008561333147469033 ((1, 1, 1), (0, 1, 1, 7)) <statsmodels.tsa.statespace.sarimax.SARIMAXResultsWrapper object at 0x0000026F8DCEBE48>\n",
      "Best Loss Prophet: 0.046230350686988685\n",
      "Best Loss Sarimax: 0.008561333147469033\n",
      "  0%|                                                                            | 0/1 [00:00<?, ?trial/s, best loss=?]"
     ]
    },
    {
     "name": "stderr",
     "output_type": "stream",
     "text": [
      "INFO:hyperopt.tpe:build_posterior_wrapper took 0.000997 seconds\n",
      "INFO:hyperopt.tpe:TPE using 0 trials\n",
      "INFO:fbprophet:Disabling weekly seasonality. Run prophet with weekly_seasonality=True to override this.\n",
      "INFO:fbprophet:Disabling daily seasonality. Run prophet with daily_seasonality=True to override this.\n",
      "INFO:fbprophet:n_changepoints greater than number of observations. Using 37.\n"
     ]
    },
    {
     "name": "stdout",
     "output_type": "stream",
     "text": [
      "score: 0.012597404254882835 model: Sarimax                                                                             \n",
      "score: 0.05590536562491336 model: Prophet                                                                              \n",
      "100%|█████████████████████████████████████████████████| 1/1 [00:03<00:00,  3.11s/trial, best loss: 0.05590536562491336]"
     ]
    },
    {
     "name": "stderr",
     "output_type": "stream",
     "text": [
      "INFO:fbprophet:Disabling weekly seasonality. Run prophet with weekly_seasonality=True to override this.\n",
      "INFO:fbprophet:Disabling daily seasonality. Run prophet with daily_seasonality=True to override this.\n"
     ]
    },
    {
     "name": "stdout",
     "output_type": "stream",
     "text": [
      "\n",
      "{'changepoint_prior_scale': 7, 'n_changepoints': 5} 0.05590536562491336\n",
      "0.05590536562491336 {'changepoint_prior_scale': 7, 'n_changepoints': 5} <fbprophet.forecaster.Prophet object at 0x0000026F8BE84648>\n",
      "score: 0.01239463220239505 model: Sarimax\n",
      "score: 0.012281511929419404 model: Sarimax\n",
      "score: 0.012456677066338864 model: Sarimax\n",
      "score: 0.012407081631466787 model: Sarimax\n",
      "score: 0.012244948934298505 model: Sarimax\n",
      "score: 0.012531490104436787 model: Sarimax\n",
      "score: 0.012276930448369241 model: Sarimax\n",
      "score: 0.012253225513927197 model: Sarimax\n",
      "score: 0.012346046611987072 model: Sarimax\n",
      "score: 0.012293492741639494 model: Sarimax\n",
      "score: 0.012148613007246928 model: Sarimax\n",
      "score: 0.011513844325252882 model: Sarimax\n",
      "score: 0.011530595770205626 model: Sarimax\n",
      "score: 0.011721666719974717 model: Sarimax\n",
      "score: 0.011513301526650803 model: Sarimax\n",
      "score: 0.011557343307471234 model: Sarimax\n",
      "score: 0.011687517775348634 model: Sarimax\n",
      "score: 0.01255110414543597 model: Sarimax\n",
      "score: 0.012305340117222887 model: Sarimax\n",
      "score: 0.012255219369420008 model: Sarimax\n",
      "score: 0.012383419317198467 model: Sarimax\n",
      "score: 0.012303303248051617 model: Sarimax\n",
      "score: 0.012160511915457835 model: Sarimax\n",
      "score: 0.012399037141945124 model: Sarimax\n",
      "score: 0.012194922935025549 model: Sarimax\n",
      "score: 0.012328558183465938 model: Sarimax\n",
      "score: 0.012247669307283264 model: Sarimax\n",
      "score: 0.012217190588145119 model: Sarimax\n",
      "score: 0.012262528207960284 model: Sarimax\n",
      "score: 0.012747327529614378 model: Sarimax\n",
      "score: 0.012680199382606228 model: Sarimax\n",
      "score: 0.013069994427699147 model: Sarimax\n",
      "score: 0.012619391335895428 model: Sarimax\n",
      "score: 0.012733844567683622 model: Sarimax\n",
      "score: 0.012830394646000833 model: Sarimax\n",
      "0.011513301526650803 ((0, 1, 3), (1, 1, 0, 7)) <statsmodels.tsa.statespace.sarimax.SARIMAXResultsWrapper object at 0x0000026F8CB5FD48>\n",
      "0.05590536562491336 {'changepoint_prior_scale': 7, 'n_changepoints': 5} <fbprophet.forecaster.Prophet object at 0x0000026F8BE84648>\n",
      "0.011513301526650803 ((0, 1, 3), (1, 1, 0, 7)) <statsmodels.tsa.statespace.sarimax.SARIMAXResultsWrapper object at 0x0000026F8CB5FD48>\n",
      "Best Loss Prophet: 0.05590536562491336\n",
      "Best Loss Sarimax: 0.011513301526650803\n",
      "  0%|                                                                            | 0/1 [00:00<?, ?trial/s, best loss=?]"
     ]
    },
    {
     "name": "stderr",
     "output_type": "stream",
     "text": [
      "INFO:hyperopt.tpe:build_posterior_wrapper took 0.000000 seconds\n",
      "INFO:hyperopt.tpe:TPE using 0 trials\n",
      "INFO:fbprophet:Disabling weekly seasonality. Run prophet with weekly_seasonality=True to override this.\n",
      "INFO:fbprophet:Disabling daily seasonality. Run prophet with daily_seasonality=True to override this.\n",
      "INFO:fbprophet:n_changepoints greater than number of observations. Using 37.\n"
     ]
    },
    {
     "name": "stdout",
     "output_type": "stream",
     "text": [
      "score: 0.009515911996577552 model: Sarimax                                                                             \n",
      "score: 0.06896345369553342 model: Prophet                                                                              \n",
      "100%|█████████████████████████████████████████████████| 1/1 [00:02<00:00,  2.96s/trial, best loss: 0.06896345369553342]"
     ]
    },
    {
     "name": "stderr",
     "output_type": "stream",
     "text": [
      "INFO:fbprophet:Disabling weekly seasonality. Run prophet with weekly_seasonality=True to override this.\n",
      "INFO:fbprophet:Disabling daily seasonality. Run prophet with daily_seasonality=True to override this.\n"
     ]
    },
    {
     "name": "stdout",
     "output_type": "stream",
     "text": [
      "\n",
      "{'changepoint_prior_scale': 4, 'n_changepoints': 1} 0.06896345369553342\n",
      "0.06896345369553342 {'changepoint_prior_scale': 4, 'n_changepoints': 1} <fbprophet.forecaster.Prophet object at 0x0000026F8CB8B9C8>\n",
      "score: 0.009665502236687372 model: Sarimax\n",
      "score: 0.009862656441650741 model: Sarimax\n",
      "score: 0.010319501748077132 model: Sarimax\n",
      "score: 0.012835405491561017 model: Sarimax\n",
      "score: 0.012020444490896736 model: Sarimax\n",
      "score: 0.009885871559972274 model: Sarimax\n",
      "score: 0.009984581491099225 model: Sarimax\n",
      "score: 0.010030224164756773 model: Sarimax\n",
      "score: 0.010582598451312819 model: Sarimax\n",
      "score: 0.012437902274211243 model: Sarimax\n",
      "score: 0.011708718971717725 model: Sarimax\n",
      "score: 0.010347637362975256 model: Sarimax\n",
      "score: 0.010070820516472446 model: Sarimax\n",
      "score: 0.0099479331014569 model: Sarimax\n",
      "score: 0.010386475009679064 model: Sarimax\n",
      "score: 0.01228181013545345 model: Sarimax\n",
      "score: 0.011683149743753854 model: Sarimax\n",
      "score: 0.009699669261471883 model: Sarimax\n",
      "score: 0.00997398620570193 model: Sarimax\n",
      "score: 0.010049138650228882 model: Sarimax\n",
      "score: 0.010671157499786192 model: Sarimax\n",
      "score: 0.012410475462647537 model: Sarimax\n",
      "score: 0.011940513011465334 model: Sarimax\n",
      "score: 0.01070562843849017 model: Sarimax\n",
      "score: 0.012164395737005495 model: Sarimax\n",
      "score: 0.011837967486664118 model: Sarimax\n",
      "score: 0.013303349078956807 model: Sarimax\n",
      "score: 0.013013801392731965 model: Sarimax\n",
      "score: 0.013989150202992226 model: Sarimax\n",
      "score: 0.009589045231924921 model: Sarimax\n",
      "score: 0.012347936846583253 model: Sarimax\n",
      "score: 0.012046616081958476 model: Sarimax\n",
      "score: 0.01390115228875654 model: Sarimax\n",
      "score: 0.014326462295795843 model: Sarimax\n",
      "score: 0.015832734188246617 model: Sarimax\n",
      "0.009515911996577552 ((0, 1, 1), (0, 1, 0, 7)) <statsmodels.tsa.statespace.sarimax.SARIMAXResultsWrapper object at 0x0000026F8DCA6948>\n",
      "0.06896345369553342 {'changepoint_prior_scale': 4, 'n_changepoints': 1} <fbprophet.forecaster.Prophet object at 0x0000026F8CB8B9C8>\n",
      "0.009515911996577552 ((0, 1, 1), (0, 1, 0, 7)) <statsmodels.tsa.statespace.sarimax.SARIMAXResultsWrapper object at 0x0000026F8DCA6948>\n",
      "Best Loss Prophet: 0.06896345369553342\n",
      "Best Loss Sarimax: 0.009515911996577552\n",
      "  0%|                                                                            | 0/1 [00:00<?, ?trial/s, best loss=?]"
     ]
    },
    {
     "name": "stderr",
     "output_type": "stream",
     "text": [
      "INFO:hyperopt.tpe:build_posterior_wrapper took 0.000000 seconds\n",
      "INFO:hyperopt.tpe:TPE using 0 trials\n",
      "INFO:fbprophet:Disabling weekly seasonality. Run prophet with weekly_seasonality=True to override this.\n",
      "INFO:fbprophet:Disabling daily seasonality. Run prophet with daily_seasonality=True to override this.\n",
      "INFO:fbprophet:n_changepoints greater than number of observations. Using 37.\n"
     ]
    },
    {
     "name": "stdout",
     "output_type": "stream",
     "text": [
      "score: 0.010584787511429383 model: Sarimax                                                                             \n",
      "score: 0.027690918222007147 model: Prophet                                                                             \n",
      "100%|████████████████████████████████████████████████| 1/1 [00:02<00:00,  2.90s/trial, best loss: 0.027690918222007147]"
     ]
    },
    {
     "name": "stderr",
     "output_type": "stream",
     "text": [
      "INFO:fbprophet:Disabling weekly seasonality. Run prophet with weekly_seasonality=True to override this.\n",
      "INFO:fbprophet:Disabling daily seasonality. Run prophet with daily_seasonality=True to override this.\n"
     ]
    },
    {
     "name": "stdout",
     "output_type": "stream",
     "text": [
      "\n",
      "{'changepoint_prior_scale': 5, 'n_changepoints': 5} 0.027690918222007147\n",
      "0.027690918222007147 {'changepoint_prior_scale': 5, 'n_changepoints': 5} <fbprophet.forecaster.Prophet object at 0x0000026F8DC8D508>\n",
      "score: 0.00981968561773722 model: Sarimax\n",
      "score: 0.02983661433728907 model: Sarimax\n",
      "score: 0.009625526944228724 model: Sarimax\n",
      "score: 0.009553168678074951 model: Sarimax\n",
      "score: 0.03284287077557983 model: Sarimax\n",
      "score: 0.02159775693153231 model: Sarimax\n",
      "score: 0.014437705841497742 model: Sarimax\n",
      "score: 0.022671688448718006 model: Sarimax\n",
      "score: 0.00938296588720383 model: Sarimax\n",
      "score: 0.013435968790089023 model: Sarimax\n",
      "score: 0.02083641669350209 model: Sarimax\n",
      "score: 0.023637528161939907 model: Sarimax\n",
      "score: 0.024128144404538435 model: Sarimax\n",
      "score: 0.023325178936753763 model: Sarimax\n",
      "score: 0.02370083072092372 model: Sarimax\n",
      "score: 0.024310394449641295 model: Sarimax\n",
      "score: 0.022346908291258964 model: Sarimax\n",
      "score: 0.009735952895920774 model: Sarimax\n",
      "score: 0.010240409894208333 model: Sarimax\n",
      "score: 0.020590445818530353 model: Sarimax\n",
      "score: 0.01037301488010038 model: Sarimax\n",
      "score: 0.0101804282118371 model: Sarimax\n",
      "score: 0.020934486983520923 model: Sarimax\n",
      "score: 0.013276526737250665 model: Sarimax\n",
      "score: 0.011362351835854894 model: Sarimax\n",
      "score: 0.029594077080790007 model: Sarimax\n",
      "score: 0.01126834867442742 model: Sarimax\n",
      "score: 0.011372438170233418 model: Sarimax\n",
      "score: 0.03207400347394214 model: Sarimax\n",
      "score: 0.02329681110229973 model: Sarimax\n",
      "score: 0.023463901613831138 model: Sarimax\n",
      "score: 0.021803721866788153 model: Sarimax\n",
      "score: 0.02306389531313305 model: Sarimax\n",
      "score: 0.023052742478433547 model: Sarimax\n",
      "score: 0.021430247458735566 model: Sarimax\n",
      "0.00938296588720383 ((0, 1, 2), (1, 1, 0, 7)) <statsmodels.tsa.statespace.sarimax.SARIMAXResultsWrapper object at 0x0000026F8DD0BA88>\n",
      "0.027690918222007147 {'changepoint_prior_scale': 5, 'n_changepoints': 5} <fbprophet.forecaster.Prophet object at 0x0000026F8DC8D508>\n",
      "0.00938296588720383 ((0, 1, 2), (1, 1, 0, 7)) <statsmodels.tsa.statespace.sarimax.SARIMAXResultsWrapper object at 0x0000026F8DD0BA88>\n",
      "Best Loss Prophet: 0.027690918222007147\n",
      "Best Loss Sarimax: 0.00938296588720383\n"
     ]
    }
   ],
   "source": [
    "if __name__ == \"__main__\":\n",
    "    driver = Driver()\n",
    "    models = driver.main()"
   ]
  },
  {
   "cell_type": "code",
   "execution_count": 17,
   "id": "16258897",
   "metadata": {},
   "outputs": [
    {
     "data": {
      "text/plain": [
       "0.019889788737184385"
      ]
     },
     "execution_count": 17,
     "metadata": {},
     "output_type": "execute_result"
    }
   ],
   "source": [
    "models[0][0]"
   ]
  },
  {
   "cell_type": "code",
   "execution_count": 18,
   "id": "7e85fc20",
   "metadata": {},
   "outputs": [],
   "source": [
    "b , c, d = models[0]"
   ]
  },
  {
   "cell_type": "code",
   "execution_count": 13,
   "id": "e4973cf5",
   "metadata": {},
   "outputs": [
    {
     "data": {
      "text/plain": [
       "(0.01693326699881369,\n",
       " ((0, 1, 1), (0, 1, 2, 7)),\n",
       " <statsmodels.tsa.statespace.sarimax.SARIMAXResultsWrapper at 0x26f8afaed88>)"
      ]
     },
     "execution_count": 13,
     "metadata": {},
     "output_type": "execute_result"
    }
   ],
   "source": [
    "mo"
   ]
  },
  {
   "cell_type": "code",
   "execution_count": null,
   "id": "6ee79c43",
   "metadata": {},
   "outputs": [],
   "source": []
  }
 ],
 "metadata": {
  "kernelspec": {
   "display_name": "Python 3 (ipykernel)",
   "language": "python",
   "name": "python3"
  },
  "language_info": {
   "codemirror_mode": {
    "name": "ipython",
    "version": 3
   },
   "file_extension": ".py",
   "mimetype": "text/x-python",
   "name": "python",
   "nbconvert_exporter": "python",
   "pygments_lexer": "ipython3",
   "version": "3.7.11"
  }
 },
 "nbformat": 4,
 "nbformat_minor": 5
}
