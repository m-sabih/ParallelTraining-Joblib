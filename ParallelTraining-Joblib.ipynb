{
 "cells": [
  {
   "cell_type": "code",
   "execution_count": 37,
   "id": "deacf252",
   "metadata": {},
   "outputs": [],
   "source": [
    "import pandas as pd\n",
    "from hyperopt import STATUS_OK, Trials, fmin, hp, tpe\n",
    "import numpy as np\n",
    "from fbprophet import Prophet\n",
    "from functools import partial\n",
    "import time\n",
    "from multiprocessing import cpu_count\n",
    "from joblib import Parallel, delayed, parallel_backend\n",
    "from statsmodels.tsa.statespace.sarimax import SARIMAX\n",
    "import warnings\n",
    "warnings.filterwarnings(\"ignore\")\n",
    "from hyperopt import space_eval"
   ]
  },
  {
   "cell_type": "code",
   "execution_count": 30,
   "id": "b0a21c23",
   "metadata": {},
   "outputs": [],
   "source": [
    "class HelperFunctions():\n",
    "    def getStores(self, data):\n",
    "        grouped_by_store = data.groupby('store_id')\n",
    "\n",
    "        stores = {}\n",
    "        for key, item in grouped_by_store:\n",
    "            stores[key] = grouped_by_store.get_group(key)\n",
    "\n",
    "        return stores\n",
    "    \n",
    "    def train_test_split(self, df, year=2016):\n",
    "        train, test = df[df['year'] < year], df[df['year'] >= year]\n",
    "        return train, test"
   ]
  },
  {
   "cell_type": "code",
   "execution_count": 31,
   "id": "73e535a9",
   "metadata": {},
   "outputs": [],
   "source": [
    "class Evaluator():        \n",
    "    def __init__(self, labelCol, predictionCol):\n",
    "        self.labelCol = labelCol\n",
    "        self.predictionCol = predictionCol\n",
    "    \n",
    "    def Mape(self, data):        \n",
    "        return np.mean(abs((data[self.labelCol] - data[self.predictionCol]) / data[self.labelCol]))"
   ]
  },
  {
   "cell_type": "code",
   "execution_count": 66,
   "id": "04a8632e",
   "metadata": {},
   "outputs": [],
   "source": [
    "class ProphetModel():\n",
    "    space = {\n",
    "        'seasonality_mode':hp.choice('seasonality_mode',['multiplicative','additive']),\n",
    "        'changepoint_prior_scale':hp.choice('changepoint_prior_scale',np.arange(.1,2,.1)),\n",
    "        'holidays_prior_scale': hp.choice('holidays_prior_scale',np.arange(.1,2,.1)),\n",
    "        'n_changepoints' : hp.choice('n_changepoints',np.arange(20,200,20)),\n",
    "        'weekly_seasonality' : hp.choice('weekly_seasonality', [True, False]),\n",
    "        'daily_seasonality' : hp.choice('daily_seasonality', [True, False]),\n",
    "        'yearly_seasonality' : hp.choice('yearly_seasonality', [True, False])\n",
    "    }\n",
    "        \n",
    "    def train(self, train, validation, params):\n",
    "        if params is None:\n",
    "            prophet = Prophet()\n",
    "        else:\n",
    "            prophet = Prophet(**params)\n",
    "\n",
    "        prophetModel = prophet.fit(train, iter=3000)\n",
    "\n",
    "        validation_result = validation[[\"store_id\", \"year\", \"month\", \"y\"]]\n",
    "        validation_result = validation_result.reset_index(drop=True)\n",
    "        validation_result[\"yhat\"] = prophetModel.predict(validation[['ds']])[[\"yhat\"]]\n",
    "        \n",
    "        evaluator = Evaluator(labelCol=\"y\", predictionCol=\"yhat\")\n",
    "        score = evaluator.Mape(validation_result)    \n",
    "        \n",
    "        print('score: {0} model: {1}'.format(score, 'Prophet'))\n",
    "        return {'loss': score, 'status': STATUS_OK}\n",
    "    \n",
    "    def fit(self, data, labelCol):\n",
    "        df = data.copy()\n",
    "        df = df.rename(columns={labelCol: 'y'})    \n",
    "        data = HelperFunctions()\n",
    "        train, validation = data.train_test_split(df, 2015)\n",
    "        train = train[['ds','y']]\n",
    "\n",
    "        trials = Trials()\n",
    "        best = fmin(partial(self.train, train, validation),\n",
    "                    space=ProphetModel.space,\n",
    "                    algo=tpe.suggest,\n",
    "                    max_evals=5,\n",
    "                    trials=trials)\n",
    "        \n",
    "        bestParams = space_eval(self.space, best)\n",
    "        bestLoss = trials.best_trial['result']['loss']        \n",
    "                \n",
    "        prophetModel = Prophet(**bestParams)\n",
    "        df = df[['ds','y']]\n",
    "        prophetModel = prophetModel.fit(df)\n",
    "\n",
    "        return bestLoss, bestParams, prophetModel"
   ]
  },
  {
   "cell_type": "code",
   "execution_count": 67,
   "id": "56636071",
   "metadata": {},
   "outputs": [],
   "source": [
    "class SarimaxModel():\n",
    "    \n",
    "    def __init__(self):\n",
    "        self.p_values = np.arange(0, 2)\n",
    "        self.d_values = np.arange(1, 2)\n",
    "        self.q_values = np.arange(1, 4)\n",
    "        self.P_values = np.arange(0, 2)\n",
    "        self.D_values = np.arange(1, 2)\n",
    "        self.Q_values = np.arange(0, 3)\n",
    "        self.m_values = np.arange(7, 8)     \n",
    "        \n",
    "    def train(self, train, validation, arima_order, seasonalOrder):    \n",
    "        try:          \n",
    "            y_hat = validation.copy() \n",
    "            model = SARIMAX(train['sales'], order=arima_order, seasonal_order=seasonalOrder)        \n",
    "            model_fit = model.fit()\n",
    "            predict = model_fit.predict(\"2015-01-01\", \"2015-12-01\", dynamic=True)\n",
    "            y_hat['model_prediction'] = predict      \n",
    "\n",
    "            evaluator = Evaluator(labelCol=\"sales\", predictionCol=\"model_prediction\")\n",
    "            error = evaluator.Mape(y_hat) \n",
    "            \n",
    "            #error = Mape(validation['sales'], y_hat.model_prediction)            \n",
    "                        \n",
    "            print('score: {0} model: {1}'.format(error, 'Sarimax'))\n",
    "            return error, arima_order, seasonalOrder\n",
    "        \n",
    "        except Exception as e:                \n",
    "            print(f\"##### Skipped modelling with: {arima_order}, {seasonalOrder}\\n\")\n",
    "            print(e)\n",
    "            return -1, arima_order, seasonalOrder\n",
    "\n",
    "    \n",
    "    def evaluate(self, train, validation, p_values, d_values, q_values, P_values,\n",
    "                 D_values, Q_values, m_values, parallel=True):    \n",
    "        \n",
    "        executor = Parallel(n_jobs=cpu_count()) \n",
    "        score = []\n",
    "\n",
    "        if parallel==False:\n",
    "            for p in p_values:\n",
    "                for d in d_values:\n",
    "                    for q in q_values:\n",
    "                        for P in P_values:\n",
    "                            for D in D_values:\n",
    "                                for Q in Q_values:\n",
    "                                    for m in m_values:        \n",
    "                                        results = self.train(train, validation, (p,d,q), (P,D,Q,m)) \n",
    "                                        #print(results)\n",
    "                                        score.append(results)                                        \n",
    "\n",
    "        else:\n",
    "            try:\n",
    "                tasks = (delayed(self.train)(train, validation, (p,d,q), (P,D,Q,m)) for m in m_values for Q in Q_values for D in D_values for P in P_values for q in q_values for d in d_values for p in p_values)        \n",
    "                results = executor(tasks)\n",
    "                score.append(results)\n",
    "            except Exception as e:\n",
    "                print('Fatal Error....')\n",
    "                print(e)\n",
    "\n",
    "        return score\n",
    "        \n",
    "    def fit(self, data, labelCol):\n",
    "        df = data.copy()\n",
    "        data = HelperFunctions()\n",
    "        train, validation = data.train_test_split(df, 2015)\n",
    "        train = train[['ds',labelCol]]\n",
    "        validation = validation[['ds',labelCol]]\n",
    "        train.set_index('ds', inplace=True)\n",
    "        validation.set_index('ds', inplace=True)\n",
    "        train.index = pd.DatetimeIndex(train.index.values,\n",
    "                                       freq=train.index.inferred_freq)\n",
    "        validation.index = pd.DatetimeIndex(validation.index.values,\n",
    "                                       freq=validation.index.inferred_freq)\n",
    "\n",
    "        result = self.evaluate(train, validation, self.p_values, self.d_values, self.q_values,\n",
    "                                         self.P_values, self.D_values, self.Q_values, self.m_values, False)\n",
    "        \n",
    "        scores=[]\n",
    "        for tuple_list in result:            \n",
    "            scores.append(tuple_list)\n",
    "\n",
    "        scores.sort(key=lambda x: x[0])\n",
    "        params = scores[0]\n",
    "        \n",
    "        df = df[['ds',labelCol]]\n",
    "        df.set_index('ds', inplace=True)\n",
    "        df.index = pd.DatetimeIndex(df.index.values,\n",
    "                                       freq=df.index.inferred_freq)\n",
    "        \n",
    "        sarimaxModel = SARIMAX(df['sales'], order=params[1], seasonal_order=params[2])        \n",
    "        sarimaxModel = sarimaxModel.fit()\n",
    "        \n",
    "        return params[0], (params[1], params[2]), sarimaxModel"
   ]
  },
  {
   "cell_type": "code",
   "execution_count": 68,
   "id": "d568b8d3",
   "metadata": {},
   "outputs": [],
   "source": [
    "class ModelSelector():\n",
    "    def getModel(self, data):\n",
    "        models = {}\n",
    "        for key, value in data.items():\n",
    "                                    \n",
    "            result = Parallel(n_jobs=cpu_count(), prefer=\"threads\")(delayed(self.parallelTraining)(model, value) \n",
    "                                                                     for model in ['prophet', 'sarimax'])                     \n",
    "            \n",
    "            bestLossProphet, bestParamsProphet, modelProphet = result[0]\n",
    "            bestLossSarimax, bestParamsSarimax, modelSarimax = result[1]\n",
    "            \n",
    "            print(bestLossProphet, bestParamsProphet, modelProphet)\n",
    "            print(bestLossSarimax, bestParamsSarimax, modelSarimax)            \n",
    "            \n",
    "            print(\"Best Loss Prophet: {0}\".format(bestLossProphet))\n",
    "            print(\"Best Loss Sarimax: {0}\".format(bestLossSarimax))\n",
    "            \n",
    "            if bestLossProphet < bestLossSarimax:\n",
    "                models[key] = ['Prophet', modelProphet]\n",
    "            else:\n",
    "                models[key] = ['Sarimax', modelSarimax]\n",
    "            \n",
    "        return models    \n",
    "    \n",
    "    def parallelTraining(self, model, data):\n",
    "        if model == \"prophet\":\n",
    "            prophet = ProphetModel()\n",
    "            bestLossProphet, bestParamsProphet, prophetModel = prophet.fit(data, \"sales\")\n",
    "            print(bestLossProphet, bestParamsProphet, prophetModel)\n",
    "            return bestLossProphet, bestParamsProphet, prophetModel\n",
    "        \n",
    "        elif model == \"sarimax\":\n",
    "            sarimax = SarimaxModel()\n",
    "            bestLossSarimax, bestParamsSarimax, sarimaxModel = sarimax.fit(data, \"sales\")\n",
    "            print(bestLossSarimax, bestParamsSarimax, sarimaxModel)            \n",
    "            return bestLossSarimax, bestParamsSarimax, sarimaxModel        "
   ]
  },
  {
   "cell_type": "code",
   "execution_count": 69,
   "id": "dbd9d6d0",
   "metadata": {},
   "outputs": [],
   "source": [
    "class Driver():\n",
    "    def main(self):\n",
    "        train = pd.read_csv('train.csv', index_col = 0)\n",
    "        test = pd.read_csv('test.csv', index_col = 0)\n",
    "        \n",
    "        train['ds'] = pd.to_datetime(train[['year', 'month']].assign(day=1))\n",
    "        test['ds'] = pd.to_datetime(test[['year', 'month']].assign(day=1))\n",
    "        \n",
    "        helper = HelperFunctions()\n",
    "        trainStores = helper.getStores(train)\n",
    "        testStores = helper.getStores(test)        \n",
    "        \n",
    "        print(\"number of stores: {0}\".format(len(trainStores)))                \n",
    "        \n",
    "        modelSelector = ModelSelector()\n",
    "        return modelSelector.getModel(trainStores)    "
   ]
  },
  {
   "cell_type": "code",
   "execution_count": null,
   "id": "baac0996",
   "metadata": {
    "scrolled": true
   },
   "outputs": [
    {
     "name": "stdout",
     "output_type": "stream",
     "text": [
      "number of stores: 10\n",
      "\r",
      "  0%|                                                                          | 0/5 [00:00<?, ?trial/s, best loss=?]"
     ]
    },
    {
     "name": "stderr",
     "output_type": "stream",
     "text": [
      "INFO:hyperopt.tpe:build_posterior_wrapper took 0.015621 seconds\n",
      "INFO:hyperopt.tpe:TPE using 0 trials\n",
      "INFO:fbprophet:n_changepoints greater than number of observations. Using 37.\n"
     ]
    },
    {
     "name": "stdout",
     "output_type": "stream",
     "text": [
      "score: 0.021063141003058453 model: Sarimax                                                                           \n",
      "score: 0.0471886800938189 model: Prophet                                                                             \n",
      " 20%|█████████▌                                      | 1/5 [01:11<04:47, 71.85s/trial, best loss: 0.0471886800938189]"
     ]
    },
    {
     "name": "stderr",
     "output_type": "stream",
     "text": [
      "INFO:hyperopt.tpe:build_posterior_wrapper took 0.004982 seconds\n",
      "INFO:hyperopt.tpe:TPE using 1/1 trials with best loss 0.047189\n",
      "INFO:fbprophet:n_changepoints greater than number of observations. Using 37.\n"
     ]
    },
    {
     "name": "stdout",
     "output_type": "stream",
     "text": [
      "score: 0.017846001294108318 model: Sarimax                                                                           \n",
      "score: 0.01762183960137016 model: Prophet                                                                            \n",
      " 40%|██████████████████▊                            | 2/5 [01:15<01:34, 31.57s/trial, best loss: 0.01762183960137016]"
     ]
    },
    {
     "name": "stderr",
     "output_type": "stream",
     "text": [
      "INFO:hyperopt.tpe:build_posterior_wrapper took 0.003988 seconds\n",
      "INFO:hyperopt.tpe:TPE using 2/2 trials with best loss 0.017622\n",
      "INFO:fbprophet:n_changepoints greater than number of observations. Using 37.\n"
     ]
    },
    {
     "name": "stdout",
     "output_type": "stream",
     "text": [
      "score: 0.1050549779649454 model: Prophet                                                                             \n",
      " 60%|████████████████████████████▏                  | 3/5 [02:24<01:37, 48.58s/trial, best loss: 0.01762183960137016]"
     ]
    },
    {
     "name": "stderr",
     "output_type": "stream",
     "text": [
      "INFO:hyperopt.tpe:build_posterior_wrapper took 0.003988 seconds\n",
      "INFO:hyperopt.tpe:TPE using 3/3 trials with best loss 0.017622\n",
      "INFO:fbprophet:n_changepoints greater than number of observations. Using 37.\n"
     ]
    },
    {
     "name": "stdout",
     "output_type": "stream",
     "text": [
      "score: 0.01693326699881369 model: Sarimax                                                                            \n",
      "score: 0.02085094440858457 model: Prophet                                                                            \n",
      "score: 0.017106446850248588 model: Sarimax                                                                           \n",
      " 80%|█████████████████████████████████████▌         | 4/5 [03:14<00:49, 49.28s/trial, best loss: 0.01762183960137016]"
     ]
    },
    {
     "name": "stderr",
     "output_type": "stream",
     "text": [
      "INFO:hyperopt.tpe:build_posterior_wrapper took 0.003987 seconds\n",
      "INFO:hyperopt.tpe:TPE using 4/4 trials with best loss 0.017622\n",
      "INFO:fbprophet:n_changepoints greater than number of observations. Using 37.\n"
     ]
    },
    {
     "name": "stdout",
     "output_type": "stream",
     "text": [
      "score: 0.021153640500120915 model: Prophet                                                                           \n",
      "100%|███████████████████████████████████████████████| 5/5 [03:17<00:00, 39.41s/trial, best loss: 0.01762183960137016]"
     ]
    },
    {
     "name": "stderr",
     "output_type": "stream",
     "text": [
      "INFO:fbprophet:n_changepoints greater than number of observations. Using 47.\n"
     ]
    },
    {
     "name": "stdout",
     "output_type": "stream",
     "text": [
      "\n",
      "0.01762183960137016 {'changepoint_prior_scale': 0.1, 'daily_seasonality': False, 'holidays_prior_scale': 0.5, 'n_changepoints': 100, 'seasonality_mode': 'multiplicative', 'weekly_seasonality': True, 'yearly_seasonality': False} <fbprophet.forecaster.Prophet object at 0x0000026F8B367948>\n",
      "score: 0.017152597669482805 model: Sarimax\n",
      "score: 0.01736799063541656 model: Sarimax\n",
      "score: 0.022126131915158175 model: Sarimax\n",
      "score: 0.018010692656682783 model: Sarimax\n",
      "score: 0.017097676392160158 model: Sarimax\n",
      "score: 0.017257514558625446 model: Sarimax\n",
      "score: 0.020237665848885162 model: Sarimax\n",
      "score: 0.017248455572712606 model: Sarimax\n",
      "score: 0.023052568318454956 model: Sarimax\n",
      "score: 0.018244945712127047 model: Sarimax\n",
      "score: 0.016976716649639057 model: Sarimax\n",
      "score: 0.017025263780505073 model: Sarimax\n",
      "score: 0.020192452647799574 model: Sarimax\n",
      "score: 0.017094092569126657 model: Sarimax\n",
      "score: 0.02248717665328924 model: Sarimax\n",
      "score: 0.018038730969357278 model: Sarimax\n",
      "score: 0.017103015985262527 model: Sarimax\n",
      "score: 0.01725364261236738 model: Sarimax\n",
      "score: 0.019743709979790504 model: Sarimax\n",
      "score: 0.017676578250053997 model: Sarimax\n",
      "score: 0.021096520140465813 model: Sarimax\n",
      "score: 0.01757509196716266 model: Sarimax\n",
      "score: 0.017090039327343712 model: Sarimax\n",
      "score: 0.017064735992874284 model: Sarimax\n",
      "score: 0.017103119869513298 model: Sarimax\n",
      "score: 0.017491683810628964 model: Sarimax\n",
      "score: 0.021672197275908373 model: Sarimax\n",
      "score: 0.02051028894338878 model: Sarimax\n",
      "score: 0.019389223608514923 model: Sarimax\n",
      "score: 0.01976897819967958 model: Sarimax\n",
      "score: 0.02184371620148259 model: Sarimax\n",
      "score: 0.01950447771191856 model: Sarimax\n",
      "0.01693326699881369 ((0, 1, 1), (0, 1, 2, 7)) <statsmodels.tsa.statespace.sarimax.SARIMAXResultsWrapper object at 0x0000026F8CB8E948>\n",
      "0.01762183960137016 {'changepoint_prior_scale': 0.1, 'daily_seasonality': False, 'holidays_prior_scale': 0.5, 'n_changepoints': 100, 'seasonality_mode': 'multiplicative', 'weekly_seasonality': True, 'yearly_seasonality': False} <fbprophet.forecaster.Prophet object at 0x0000026F8B367948>\n",
      "0.01693326699881369 ((0, 1, 1), (0, 1, 2, 7)) <statsmodels.tsa.statespace.sarimax.SARIMAXResultsWrapper object at 0x0000026F8CB8E948>\n",
      "Best Loss Prophet: 0.01762183960137016\n",
      "Best Loss Sarimax: 0.01693326699881369\n",
      "  0%|                                                                          | 0/5 [00:00<?, ?trial/s, best loss=?]"
     ]
    },
    {
     "name": "stderr",
     "output_type": "stream",
     "text": [
      "INFO:hyperopt.tpe:build_posterior_wrapper took 0.007023 seconds\n",
      "INFO:hyperopt.tpe:TPE using 0 trials\n",
      "INFO:fbprophet:n_changepoints greater than number of observations. Using 37.\n"
     ]
    },
    {
     "name": "stdout",
     "output_type": "stream",
     "text": [
      "score: 0.03518457603307092 model: Sarimax                                                                            \n",
      "score: 0.031763362173485445 model: Prophet                                                                           \n",
      " 20%|█████████▏                                    | 1/5 [00:03<00:13,  3.30s/trial, best loss: 0.031763362173485445]"
     ]
    },
    {
     "name": "stderr",
     "output_type": "stream",
     "text": [
      "INFO:hyperopt.tpe:build_posterior_wrapper took 0.004987 seconds\n",
      "INFO:hyperopt.tpe:TPE using 1/1 trials with best loss 0.031763\n",
      "INFO:fbprophet:n_changepoints greater than number of observations. Using 37.\n"
     ]
    },
    {
     "name": "stdout",
     "output_type": "stream",
     "text": [
      "score: 0.035072567231430006 model: Sarimax                                                                           \n",
      "score: 0.04119019274738852 model: Prophet                                                                            \n",
      " 40%|██████████████████▍                           | 2/5 [01:12<02:05, 41.79s/trial, best loss: 0.031763362173485445]"
     ]
    },
    {
     "name": "stderr",
     "output_type": "stream",
     "text": [
      "INFO:hyperopt.tpe:build_posterior_wrapper took 0.004988 seconds\n",
      "INFO:hyperopt.tpe:TPE using 2/2 trials with best loss 0.031763\n",
      "INFO:fbprophet:n_changepoints greater than number of observations. Using 37.\n"
     ]
    },
    {
     "name": "stdout",
     "output_type": "stream",
     "text": [
      "score: 0.03665015701512721 model: Sarimax                                                                            \n",
      "score: 0.035089847816089335 model: Sarimax                                                                           \n",
      "score: 0.04014161119831025 model: Sarimax                                                                            \n",
      "score: 0.031121071048429122 model: Prophet                                                                           \n",
      " 60%|███████████████████████████▌                  | 3/5 [02:43<02:08, 64.43s/trial, best loss: 0.031121071048429122]"
     ]
    },
    {
     "name": "stderr",
     "output_type": "stream",
     "text": [
      "INFO:hyperopt.tpe:build_posterior_wrapper took 0.015622 seconds\n",
      "INFO:hyperopt.tpe:TPE using 3/3 trials with best loss 0.031121\n",
      "INFO:fbprophet:n_changepoints greater than number of observations. Using 37.\n"
     ]
    },
    {
     "name": "stdout",
     "output_type": "stream",
     "text": [
      "score: 0.04418592276085412 model: Sarimax                                                                            \n",
      "score: 0.04872149607515419 model: Prophet                                                                            \n",
      " 80%|████████████████████████████████████         | 4/5 [05:35<01:46, 106.91s/trial, best loss: 0.031121071048429122]"
     ]
    },
    {
     "name": "stderr",
     "output_type": "stream",
     "text": [
      "INFO:hyperopt.tpe:build_posterior_wrapper took 0.002716 seconds\n",
      "INFO:hyperopt.tpe:TPE using 4/4 trials with best loss 0.031121\n",
      "INFO:fbprophet:n_changepoints greater than number of observations. Using 37.\n"
     ]
    },
    {
     "name": "stdout",
     "output_type": "stream",
     "text": [
      "score: 0.03550092510969939 model: Sarimax                                                                            \n",
      "score: 0.044633524143131764 model: Prophet                                                                           \n",
      "100%|██████████████████████████████████████████████| 5/5 [05:37<00:00, 67.52s/trial, best loss: 0.031121071048429122]"
     ]
    },
    {
     "name": "stderr",
     "output_type": "stream",
     "text": [
      "INFO:fbprophet:n_changepoints greater than number of observations. Using 47.\n"
     ]
    },
    {
     "name": "stdout",
     "output_type": "stream",
     "text": [
      "\n",
      "0.031121071048429122 {'changepoint_prior_scale': 1.3000000000000003, 'daily_seasonality': True, 'holidays_prior_scale': 0.4, 'n_changepoints': 60, 'seasonality_mode': 'multiplicative', 'weekly_seasonality': True, 'yearly_seasonality': True} <fbprophet.forecaster.Prophet object at 0x0000026F8DF6FF48>\n",
      "score: 0.035568539859573194 model: Sarimax\n",
      "score: 0.036868856939641426 model: Sarimax\n",
      "score: 0.03570099204895122 model: Sarimax\n",
      "score: 0.04129153081965375 model: Sarimax\n",
      "score: 0.04908882883921423 model: Sarimax\n",
      "score: 0.03276969106635298 model: Sarimax\n",
      "score: 0.03489607260978599 model: Sarimax\n",
      "score: 0.03620965311498783 model: Sarimax\n",
      "score: 0.034909609058872006 model: Sarimax\n",
      "score: 0.03908350719806172 model: Sarimax\n",
      "score: 0.04313063450262606 model: Sarimax\n",
      "score: 0.03895092733874417 model: Sarimax\n",
      "score: 0.03642408409202506 model: Sarimax\n",
      "score: 0.03718979253502021 model: Sarimax\n",
      "score: 0.0366228438990097 model: Sarimax\n",
      "score: 0.043926388278108956 model: Sarimax\n",
      "score: 0.05206582765628313 model: Sarimax\n",
      "score: 0.03712479419973836 model: Sarimax\n",
      "score: 0.0370695329255551 model: Sarimax\n",
      "score: 0.0386144069736421 model: Sarimax\n",
      "score: 0.037094389586681674 model: Sarimax\n",
      "score: 0.040158584398868595 model: Sarimax\n",
      "score: 0.04667461198297235 model: Sarimax\n",
      "score: 0.035875236256162145 model: Sarimax\n",
      "score: 0.03575292867905571 model: Sarimax\n",
      "score: 0.03775522300570722 model: Sarimax\n",
      "score: 0.035793435757933374 model: Sarimax\n",
      "score: 0.04011287619620605 model: Sarimax\n",
      "score: 0.043200629205648426 model: Sarimax\n",
      "0.03276969106635298 ((0, 1, 3), (0, 1, 0, 7)) <statsmodels.tsa.statespace.sarimax.SARIMAXResultsWrapper object at 0x0000026F8DF6FD48>\n",
      "0.031121071048429122 {'changepoint_prior_scale': 1.3000000000000003, 'daily_seasonality': True, 'holidays_prior_scale': 0.4, 'n_changepoints': 60, 'seasonality_mode': 'multiplicative', 'weekly_seasonality': True, 'yearly_seasonality': True} <fbprophet.forecaster.Prophet object at 0x0000026F8DF6FF48>\n",
      "0.03276969106635298 ((0, 1, 3), (0, 1, 0, 7)) <statsmodels.tsa.statespace.sarimax.SARIMAXResultsWrapper object at 0x0000026F8DF6FD48>\n",
      "Best Loss Prophet: 0.031121071048429122\n",
      "Best Loss Sarimax: 0.03276969106635298\n",
      "  0%|                                                                          | 0/5 [00:00<?, ?trial/s, best loss=?]"
     ]
    },
    {
     "name": "stderr",
     "output_type": "stream",
     "text": [
      "INFO:hyperopt.tpe:build_posterior_wrapper took 0.003992 seconds\n",
      "INFO:hyperopt.tpe:TPE using 0 trials\n",
      "INFO:fbprophet:n_changepoints greater than number of observations. Using 37.\n"
     ]
    },
    {
     "name": "stdout",
     "output_type": "stream",
     "text": [
      "score: 0.015811897456003487 model: Sarimax                                                                           \n",
      "score: 0.024787485953728313 model: Prophet                                                                           \n",
      " 20%|█████████▏                                    | 1/5 [00:56<03:46, 56.50s/trial, best loss: 0.024787485953728313]"
     ]
    },
    {
     "name": "stderr",
     "output_type": "stream",
     "text": [
      "INFO:hyperopt.tpe:build_posterior_wrapper took 0.005425 seconds\n",
      "INFO:hyperopt.tpe:TPE using 1/1 trials with best loss 0.024787\n",
      "INFO:fbprophet:n_changepoints greater than number of observations. Using 37.\n"
     ]
    },
    {
     "name": "stdout",
     "output_type": "stream",
     "text": [
      "score: 0.015098346210285503 model: Sarimax                                                                           \n",
      "score: 0.023694463647563387 model: Prophet                                                                           \n",
      " 40%|██████████████████▍                           | 2/5 [00:59<01:15, 25.03s/trial, best loss: 0.023694463647563387]"
     ]
    },
    {
     "name": "stderr",
     "output_type": "stream",
     "text": [
      "INFO:hyperopt.tpe:build_posterior_wrapper took 0.001151 seconds\n",
      "INFO:hyperopt.tpe:TPE using 2/2 trials with best loss 0.023694\n",
      "INFO:fbprophet:n_changepoints greater than number of observations. Using 37.\n"
     ]
    },
    {
     "name": "stdout",
     "output_type": "stream",
     "text": [
      "score: 0.028016546421507322 model: Prophet                                                                           \n",
      " 60%|███████████████████████████                  | 3/5 [04:23<03:33, 106.61s/trial, best loss: 0.023694463647563387]"
     ]
    },
    {
     "name": "stderr",
     "output_type": "stream",
     "text": [
      "INFO:hyperopt.tpe:build_posterior_wrapper took 0.004002 seconds\n",
      "INFO:hyperopt.tpe:TPE using 3/3 trials with best loss 0.023694\n",
      "INFO:fbprophet:n_changepoints greater than number of observations. Using 37.\n"
     ]
    },
    {
     "name": "stdout",
     "output_type": "stream",
     "text": [
      "score: 0.03333061989139991 model: Prophet                                                                            \n",
      " 80%|████████████████████████████████████▊         | 4/5 [04:25<01:05, 65.30s/trial, best loss: 0.023694463647563387]"
     ]
    },
    {
     "name": "stderr",
     "output_type": "stream",
     "text": [
      "INFO:hyperopt.tpe:build_posterior_wrapper took 0.002990 seconds\n",
      "INFO:hyperopt.tpe:TPE using 4/4 trials with best loss 0.023694\n",
      "INFO:fbprophet:n_changepoints greater than number of observations. Using 37.\n"
     ]
    },
    {
     "name": "stdout",
     "output_type": "stream",
     "text": [
      "score: 0.015460622874716176 model: Sarimax                                                                           \n",
      "score: 0.01582559246023521 model: Prophet                                                                            \n",
      "100%|███████████████████████████████████████████████| 5/5 [04:31<00:00, 54.32s/trial, best loss: 0.01582559246023521]\n",
      "0.01582559246023521 {'changepoint_prior_scale': 0.5, 'daily_seasonality': True, 'holidays_prior_scale': 0.5, 'n_changepoints': 40, 'seasonality_mode': 'multiplicative', 'weekly_seasonality': False, 'yearly_seasonality': False} <fbprophet.forecaster.Prophet object at 0x0000026F8C099308>\n",
      "score: 0.01537575013255855 model: Sarimax\n",
      "score: 0.015315885578899036 model: Sarimax\n",
      "score: 0.018802246714453907 model: Sarimax\n",
      "score: 0.016539843816684104 model: Sarimax\n",
      "score: 0.015545238268170836 model: Sarimax\n",
      "score: 0.015865654737745774 model: Sarimax\n",
      "score: 0.015769896491005634 model: Sarimax\n",
      "score: 0.015730383231516185 model: Sarimax\n",
      "score: 0.020085255449820354 model: Sarimax\n",
      "score: 0.015036035443636762 model: Sarimax\n",
      "score: 0.01445854736479432 model: Sarimax\n",
      "score: 0.014689167873289761 model: Sarimax\n",
      "score: 0.014767301385047546 model: Sarimax\n",
      "score: 0.014615300973602077 model: Sarimax\n",
      "score: 0.018428872209013843 model: Sarimax\n",
      "score: 0.014253067587842302 model: Sarimax\n",
      "score: 0.013534675353285274 model: Sarimax\n",
      "score: 0.013426905700033505 model: Sarimax\n",
      "score: 0.013570875136439382 model: Sarimax\n",
      "score: 0.013506507062367295 model: Sarimax\n",
      "score: 0.013522086220287034 model: Sarimax\n",
      "score: 0.018029104007368107 model: Sarimax\n",
      "score: 0.016371833417124105 model: Sarimax\n",
      "score: 0.01733217131786123 model: Sarimax\n",
      "score: 0.017019156132534793 model: Sarimax\n",
      "score: 0.01682600939132556 model: Sarimax\n",
      "score: 0.01937547030100512 model: Sarimax\n",
      "score: 0.015524977156523899 model: Sarimax\n",
      "score: 0.014718270781907574 model: Sarimax\n",
      "score: 0.016332493534740793 model: Sarimax\n",
      "score: 0.016072407485038607 model: Sarimax\n",
      "score: 0.015109020938461294 model: Sarimax\n",
      "score: 0.01963703242020359 model: Sarimax\n",
      "0.013426905700033505 ((1, 1, 1), (0, 1, 2, 7)) <statsmodels.tsa.statespace.sarimax.SARIMAXResultsWrapper object at 0x0000026F8C92C048>\n",
      "0.01582559246023521 {'changepoint_prior_scale': 0.5, 'daily_seasonality': True, 'holidays_prior_scale': 0.5, 'n_changepoints': 40, 'seasonality_mode': 'multiplicative', 'weekly_seasonality': False, 'yearly_seasonality': False} <fbprophet.forecaster.Prophet object at 0x0000026F8C099308>\n",
      "0.013426905700033505 ((1, 1, 1), (0, 1, 2, 7)) <statsmodels.tsa.statespace.sarimax.SARIMAXResultsWrapper object at 0x0000026F8C92C048>\n",
      "Best Loss Prophet: 0.01582559246023521\n",
      "Best Loss Sarimax: 0.013426905700033505\n",
      "  0%|                                                                          | 0/5 [00:00<?, ?trial/s, best loss=?]"
     ]
    },
    {
     "name": "stderr",
     "output_type": "stream",
     "text": [
      "INFO:hyperopt.tpe:build_posterior_wrapper took 0.005457 seconds\n",
      "INFO:hyperopt.tpe:TPE using 0 trials\n",
      "INFO:fbprophet:n_changepoints greater than number of observations. Using 37.\n"
     ]
    },
    {
     "name": "stdout",
     "output_type": "stream",
     "text": [
      "score: 0.011476949635423277 model: Sarimax                                                                           \n",
      "score: 0.026495087531214462 model: Prophet                                                                           \n",
      " 20%|█████████▏                                    | 1/5 [01:11<04:45, 71.37s/trial, best loss: 0.026495087531214462]"
     ]
    },
    {
     "name": "stderr",
     "output_type": "stream",
     "text": [
      "INFO:hyperopt.tpe:build_posterior_wrapper took 0.001554 seconds\n",
      "INFO:hyperopt.tpe:TPE using 1/1 trials with best loss 0.026495\n",
      "INFO:fbprophet:n_changepoints greater than number of observations. Using 37.\n"
     ]
    }
   ],
   "source": [
    "if __name__ == \"__main__\":\n",
    "    driver = Driver()\n",
    "    models = driver.main()"
   ]
  },
  {
   "cell_type": "code",
   "execution_count": null,
   "id": "eed9b80d",
   "metadata": {},
   "outputs": [],
   "source": []
  }
 ],
 "metadata": {
  "kernelspec": {
   "display_name": "Python 3 (ipykernel)",
   "language": "python",
   "name": "python3"
  },
  "language_info": {
   "codemirror_mode": {
    "name": "ipython",
    "version": 3
   },
   "file_extension": ".py",
   "mimetype": "text/x-python",
   "name": "python",
   "nbconvert_exporter": "python",
   "pygments_lexer": "ipython3",
   "version": "3.7.11"
  }
 },
 "nbformat": 4,
 "nbformat_minor": 5
}
